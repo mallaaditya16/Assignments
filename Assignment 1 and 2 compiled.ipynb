{
 "cells": [
  {
   "cell_type": "markdown",
   "id": "4c15e9c7",
   "metadata": {},
   "source": [
    "**Assignment-1**"
   ]
  },
  {
   "cell_type": "code",
   "execution_count": 28,
   "id": "a470b1ad",
   "metadata": {},
   "outputs": [],
   "source": [
    "import tensorflow\n",
    "import keras\n",
    "from keras.models import Sequential\n",
    "from keras.layers.core import Dense,Dropout,Activation\n",
    "from keras.datasets import mnist\n",
    "from keras.utils import np_utils\n",
    "from sklearn import metrics\n",
    "import numpy as np"
   ]
  },
  {
   "cell_type": "code",
   "execution_count": 29,
   "id": "2e539f7c",
   "metadata": {},
   "outputs": [],
   "source": [
    "(xt,yt),(xte,yte)=mnist.load_data()"
   ]
  },
  {
   "cell_type": "code",
   "execution_count": 30,
   "id": "be304e61",
   "metadata": {},
   "outputs": [
    {
     "data": {
      "image/png": "[encoded data removed]",
      "text/plain": [
       "<Figure size 432x288 with 1 Axes>"
      ]
     },
     "metadata": {
      "needs_background": "light"
     },
     "output_type": "display_data"
    }
   ],
   "source": [
    "import matplotlib.pyplot as plt\n",
    "plt.imshow(xt[0])\n",
    "plt.show()"
   ]
  },
  {
   "cell_type": "code",
   "execution_count": 31,
   "id": "714daa44",
   "metadata": {},
   "outputs": [],
   "source": [
    "xt=xt.reshape(60000,784).astype('float32')\n",
    "xte=xte.reshape(10000,784).astype('float32')\n",
    "xt/=255\n",
    "xte/=255"
   ]
  },
  {
   "cell_type": "code",
   "execution_count": 32,
   "id": "26d6c749",
   "metadata": {},
   "outputs": [],
   "source": [
    "nb_classes = 10 # number of unique digits\n",
    "\n",
    "Yt= np_utils.to_categorical(yt, nb_classes)\n",
    "Yte = np_utils.to_categorical(yte, nb_classes)\n",
    "yto=np.zeros([yt.shape[0],nb_classes])\n",
    "yteo=np.zeros([yte.shape[0],nb_classes])\n",
    "for i in range(yt.shape[0]):\n",
    "    yto[i][yt[i]]=1\n",
    "for i in range(yte.shape[0]):\n",
    "    yteo[i][yte[i]]=1"
   ]
  },
  {
   "cell_type": "code",
   "execution_count": 33,
   "id": "0a2705ba",
   "metadata": {},
   "outputs": [],
   "source": [
    "model=Sequential()                        #Linear stacking of layers\n",
    "\n",
    "model.add(Dense(512,input_shape=(784,)))  #First layer with 512 nodes\n",
    "model.add(Activation('relu'))             #Relu activation function \n",
    "\n",
    "model.add(Dense(50))                      #second layer with 50 nodes\n",
    "model.add(Activation('relu'))             #relu activation layer\n",
    "model.add(Dropout(0.2))                   #20% dropout of randomly selected nodes\n",
    "\n",
    "model.add(Dense(10))                      #Final layer with 10 nodes and\n",
    "model.add(Activation('softmax'))          #softmax activation function"
   ]
  },
  {
   "cell_type": "code",
   "execution_count": 34,
   "id": "c86e433c",
   "metadata": {},
   "outputs": [],
   "source": [
    "model.compile(loss='categorical_crossentropy', optimizer='adam', metrics=['accuracy'])"
   ]
  },
  {
   "cell_type": "code",
   "execution_count": 35,
   "id": "9b5833ba",
   "metadata": {},
   "outputs": [
    {
     "name": "stdout",
     "output_type": "stream",
     "text": [
      "Epoch 1/20\n",
      "938/938 [==============================] - 2s 2ms/step - loss: 0.2653 - accuracy: 0.9212\n",
      "Epoch 2/20\n",
      "938/938 [==============================] - 2s 2ms/step - loss: 0.1079 - accuracy: 0.9674\n",
      "Epoch 3/20\n",
      "938/938 [==============================] - 2s 2ms/step - loss: 0.0726 - accuracy: 0.9782\n",
      "Epoch 4/20\n",
      "938/938 [==============================] - 2s 2ms/step - loss: 0.0548 - accuracy: 0.9833\n",
      "Epoch 5/20\n",
      "938/938 [==============================] - 2s 2ms/step - loss: 0.0447 - accuracy: 0.9856\n",
      "Epoch 6/20\n",
      "938/938 [==============================] - 2s 2ms/step - loss: 0.0351 - accuracy: 0.9884\n",
      "Epoch 7/20\n",
      "938/938 [==============================] - 2s 2ms/step - loss: 0.0278 - accuracy: 0.9907\n",
      "Epoch 8/20\n",
      "938/938 [==============================] - 2s 2ms/step - loss: 0.0251 - accuracy: 0.9918\n",
      "Epoch 9/20\n",
      "938/938 [==============================] - 2s 2ms/step - loss: 0.0200 - accuracy: 0.9936\n",
      "Epoch 10/20\n",
      "938/938 [==============================] - 2s 2ms/step - loss: 0.0199 - accuracy: 0.9938\n",
      "Epoch 11/20\n",
      "938/938 [==============================] - 2s 2ms/step - loss: 0.0191 - accuracy: 0.9935\n",
      "Epoch 12/20\n",
      "938/938 [==============================] - 2s 2ms/step - loss: 0.0156 - accuracy: 0.9946\n",
      "Epoch 13/20\n",
      "938/938 [==============================] - 2s 2ms/step - loss: 0.0152 - accuracy: 0.9949\n",
      "Epoch 14/20\n",
      "938/938 [==============================] - 2s 2ms/step - loss: 0.0123 - accuracy: 0.9963\n",
      "Epoch 15/20\n",
      "938/938 [==============================] - 2s 2ms/step - loss: 0.0137 - accuracy: 0.9953\n",
      "Epoch 16/20\n",
      "938/938 [==============================] - 2s 2ms/step - loss: 0.0124 - accuracy: 0.9960\n",
      "Epoch 17/20\n",
      "938/938 [==============================] - 2s 2ms/step - loss: 0.0128 - accuracy: 0.9957\n",
      "Epoch 18/20\n",
      "938/938 [==============================] - 2s 2ms/step - loss: 0.0092 - accuracy: 0.9969\n",
      "Epoch 19/20\n",
      "938/938 [==============================] - 2s 2ms/step - loss: 0.0101 - accuracy: 0.9967\n",
      "Epoch 20/20\n",
      "938/938 [==============================] - 2s 2ms/step - loss: 0.0099 - accuracy: 0.9970\n"
     ]
    },
    {
     "data": {
      "text/plain": [
       "<keras.callbacks.History at 0x7f8ac34cb340>"
      ]
     },
     "execution_count": 35,
     "metadata": {},
     "output_type": "execute_result"
    }
   ],
   "source": [
    "model.fit(x=xt,y=yto,batch_size=64,epochs=20)"
   ]
  },
  {
   "cell_type": "code",
   "execution_count": 36,
   "id": "b530cc7e",
   "metadata": {},
   "outputs": [
    {
     "name": "stdout",
     "output_type": "stream",
     "text": [
      "313/313 [==============================] - 0s 1ms/step - loss: 0.0902 - accuracy: 0.9838\n",
      "Test score: 0.09021486341953278\n",
      "Test accuracy: 0.9837999939918518\n"
     ]
    }
   ],
   "source": [
    "score = model.evaluate(xte,yteo)\n",
    "print('Test score:', score[0])\n",
    "print('Test accuracy:', score[1])"
   ]
  },
  {
   "cell_type": "code",
   "execution_count": 37,
   "id": "0af95a47",
   "metadata": {},
   "outputs": [
    {
     "name": "stdout",
     "output_type": "stream",
     "text": [
      "313/313 [==============================] - 0s 868us/step\n",
      "(10000, 10)\n"
     ]
    }
   ],
   "source": [
    "preds=model.predict(xte)\n",
    "print(preds.shape)"
   ]
  },
  {
   "cell_type": "code",
   "execution_count": 38,
   "id": "01d396be",
   "metadata": {},
   "outputs": [
    {
     "name": "stdout",
     "output_type": "stream",
     "text": [
      "2 2\n"
     ]
    }
   ],
   "source": [
    "print(preds[1].argmax(),yteo[1].argmax())"
   ]
  },
  {
   "cell_type": "code",
   "execution_count": 39,
   "id": "76cfcf5e",
   "metadata": {},
   "outputs": [],
   "source": [
    "preds=np.array([preds[i].argmax() for i in range(len(preds))])"
   ]
  },
  {
   "cell_type": "code",
   "execution_count": 40,
   "id": "35b7d4b9",
   "metadata": {},
   "outputs": [
    {
     "name": "stdout",
     "output_type": "stream",
     "text": [
      "[0.99381625]\n"
     ]
    }
   ],
   "source": [
    "print(metrics.precision_score(y_true=yte,y_pred=preds,labels=[1],average=None))"
   ]
  },
  {
   "cell_type": "code",
   "execution_count": 41,
   "id": "2218f30e",
   "metadata": {},
   "outputs": [
    {
     "name": "stdout",
     "output_type": "stream",
     "text": [
      "[0.99118943]\n"
     ]
    }
   ],
   "source": [
    "print(metrics.recall_score(y_true=yte,y_pred=preds,labels=[1],average=None))"
   ]
  },
  {
   "cell_type": "code",
   "execution_count": 42,
   "id": "2a8e1ce1",
   "metadata": {},
   "outputs": [
    {
     "name": "stdout",
     "output_type": "stream",
     "text": [
      "Model: \"sequential_2\"\n",
      "_________________________________________________________________\n",
      " Layer (type)                Output Shape              Param #   \n",
      "=================================================================\n",
      " dense_6 (Dense)             (None, 512)               401920    \n",
      "                                                                 \n",
      " activation_5 (Activation)   (None, 512)               0         \n",
      "                                                                 \n",
      " dense_7 (Dense)             (None, 50)                25650     \n",
      "                                                                 \n",
      " activation_6 (Activation)   (None, 50)                0         \n",
      "                                                                 \n",
      " dropout_3 (Dropout)         (None, 50)                0         \n",
      "                                                                 \n",
      " dense_8 (Dense)             (None, 10)                510       \n",
      "                                                                 \n",
      " activation_7 (Activation)   (None, 10)                0         \n",
      "                                                                 \n",
      "=================================================================\n",
      "Total params: 428,080\n",
      "Trainable params: 428,080\n",
      "Non-trainable params: 0\n",
      "_________________________________________________________________\n"
     ]
    }
   ],
   "source": [
    "model.summary()#categorical cross entropy loss function is used"
   ]
  },
  {
   "cell_type": "markdown",
   "id": "a8544564",
   "metadata": {},
   "source": [
    "**acuuracy**: 98.35%<br>\n",
    "**loss**: 0.094(categorical cross entropy loss)<br>\n",
    "**precision for digit 1**: 0.99381625<br>\n",
    "**recall for digit 1**:0.99118943 <br>"
   ]
  },
  {
   "cell_type": "markdown",
   "id": "f56b5a20",
   "metadata": {},
   "source": [
    "**Assignment-2**"
   ]
  },
  {
   "cell_type": "code",
   "execution_count": 16,
   "id": "1b06f0be",
   "metadata": {},
   "outputs": [],
   "source": [
    "(xt,yt),(xte,yte)=mnist.load_data()"
   ]
  },
  {
   "cell_type": "code",
   "execution_count": 17,
   "id": "dab82ae2",
   "metadata": {},
   "outputs": [],
   "source": [
    "xt=xt.reshape(60000,784).astype('float32')\n",
    "xte=xte.reshape(10000,784).astype('float32')\n",
    "xt/=255\n",
    "xte/=255"
   ]
  },
  {
   "cell_type": "code",
   "execution_count": 18,
   "id": "9dd5c25c",
   "metadata": {},
   "outputs": [],
   "source": [
    "model=Sequential()                        #Linear stacking of layers\n",
    "\n",
    "model.add(Dense(512,input_shape=(784,)))  #First layer with 512 nodes\n",
    "model.add(Activation('relu'))#Relu activation function\n",
    "model.add(Dropout(0.2)) \n",
    "\n",
    "model.add(Dense(50))                      #second layer with 50 nodes\n",
    "model.add(Activation('relu'))             #relu activation layer\n",
    "model.add(Dropout(0.2))                   #20% dropout of randomly selected nodes\n",
    "\n",
    "model.add(Dense(1))                      #Final layer with 10 nodes and\n",
    "#model.add(Activation('relu'))    "
   ]
  },
  {
   "cell_type": "code",
   "execution_count": 19,
   "id": "1234adab",
   "metadata": {},
   "outputs": [],
   "source": [
    "model.compile(loss=tensorflow.keras.losses.MeanSquaredError(), optimizer='adam', metrics=['accuracy'])"
   ]
  },
  {
   "cell_type": "code",
   "execution_count": null,
   "id": "c1e52e6b",
   "metadata": {},
   "outputs": [],
   "source": [
    "model.fit(x=xt,y=yt,batch_size=64,epochs=300)"
   ]
  },
  {
   "cell_type": "code",
   "execution_count": 20,
   "id": "8b043c52",
   "metadata": {},
   "outputs": [],
   "source": [
    "model=keras.models.load_model(\"regmodel\")"
   ]
  },
  {
   "cell_type": "code",
   "execution_count": 21,
   "id": "bba394ba",
   "metadata": {},
   "outputs": [
    {
     "name": "stdout",
     "output_type": "stream",
     "text": [
      "313/313 [==============================] - 0s 1ms/step - loss: 0.3540 - accuracy: 0.2053\n",
      "Test score: 0.3539540767669678\n",
      "Test accuracy: 0.2053000032901764\n"
     ]
    }
   ],
   "source": [
    "score = model.evaluate(xte,yte)\n",
    "print('Test score:', score[0])\n",
    "print('Test accuracy:', score[1])"
   ]
  },
  {
   "cell_type": "code",
   "execution_count": 22,
   "id": "ba112cce",
   "metadata": {},
   "outputs": [
    {
     "name": "stdout",
     "output_type": "stream",
     "text": [
      "313/313 [==============================] - 0s 998us/step\n"
     ]
    }
   ],
   "source": [
    "preds=model.predict(xte)"
   ]
  },
  {
   "cell_type": "code",
   "execution_count": 23,
   "id": "45a1aa82",
   "metadata": {},
   "outputs": [
    {
     "name": "stdout",
     "output_type": "stream",
     "text": [
      "[0.594939]\n"
     ]
    }
   ],
   "source": [
    "rmse=0\n",
    "for i in range(len(preds)):\n",
    "    rmse+=(preds[i]-yte[i])**2\n",
    "print((rmse/len(preds))**0.5)"
   ]
  },
  {
   "cell_type": "code",
   "execution_count": 24,
   "id": "a90230fe",
   "metadata": {},
   "outputs": [
    {
     "name": "stdout",
     "output_type": "stream",
     "text": [
      "0.9259\n"
     ]
    }
   ],
   "source": [
    "preds=np.round(preds)\n",
    "acc=0\n",
    "for i in range(len(preds)):\n",
    "    if preds[i]==yte[i]:\n",
    "        acc+=1\n",
    "print(acc/len(preds))"
   ]
  },
  {
   "cell_type": "code",
   "execution_count": 25,
   "id": "aad95afa",
   "metadata": {},
   "outputs": [
    {
     "name": "stdout",
     "output_type": "stream",
     "text": [
      "[0.97137746]\n"
     ]
    }
   ],
   "source": [
    "print(metrics.precision_score(y_true=yte,y_pred=preds,labels=[1],average=None))"
   ]
  },
  {
   "cell_type": "code",
   "execution_count": 26,
   "id": "84e65ec8",
   "metadata": {},
   "outputs": [
    {
     "name": "stdout",
     "output_type": "stream",
     "text": [
      "[0.95682819]\n"
     ]
    }
   ],
   "source": [
    "print(metrics.recall_score(y_true=yte,y_pred=preds,labels=[1],average=None))"
   ]
  },
  {
   "cell_type": "code",
   "execution_count": 27,
   "id": "62685e79",
   "metadata": {},
   "outputs": [
    {
     "name": "stdout",
     "output_type": "stream",
     "text": [
      "Model: \"sequential\"\n",
      "_________________________________________________________________\n",
      " Layer (type)                Output Shape              Param #   \n",
      "=================================================================\n",
      " dense (Dense)               (None, 512)               401920    \n",
      "                                                                 \n",
      " activation (Activation)     (None, 512)               0         \n",
      "                                                                 \n",
      " dropout (Dropout)           (None, 512)               0         \n",
      "                                                                 \n",
      " dense_1 (Dense)             (None, 50)                25650     \n",
      "                                                                 \n",
      " activation_1 (Activation)   (None, 50)                0         \n",
      "                                                                 \n",
      " dropout_1 (Dropout)         (None, 50)                0         \n",
      "                                                                 \n",
      " dense_2 (Dense)             (None, 1)                 51        \n",
      "                                                                 \n",
      "=================================================================\n",
      "Total params: 427,621\n",
      "Trainable params: 427,621\n",
      "Non-trainable params: 0\n",
      "_________________________________________________________________\n"
     ]
    }
   ],
   "source": [
    "model.summary()"
   ]
  },
  {
   "cell_type": "markdown",
   "id": "bec49968",
   "metadata": {},
   "source": [
    "**acuuracy**: 92.59%<br>\n",
    "**loss**: 0.594939(rmse)<br>\n",
    "**precision for digit 1**: 0.97137746<br>\n",
    "**recall for digit 1**:0.95682819 <br>"
   ]
  },
  {
   "cell_type": "code",
   "execution_count": null,
   "id": "05c235f8",
   "metadata": {},
   "outputs": [],
   "source": []
  }
 ],
 "metadata": {
  "kernelspec": {
   "display_name": "Python 3 (ipykernel)",
   "language": "python",
   "name": "python3"
  },
  "language_info": {
   "codemirror_mode": {
    "name": "ipython",
    "version": 3
   },
   "file_extension": ".py",
   "mimetype": "text/x-python",
   "name": "python",
   "nbconvert_exporter": "python",
   "pygments_lexer": "ipython3",
   "version": "3.9.12"
  }
 },
 "nbformat": 4,
 "nbformat_minor": 5
}
